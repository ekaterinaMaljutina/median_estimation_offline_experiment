{
 "cells": [
  {
   "cell_type": "markdown",
   "metadata": {},
   "source": [
    "# Experiment description\n",
    " - Let's generate random samples from highly skewed distribution with long tails\n",
    " - Calculate & store median value of each random sample\n",
    " - Calculate value of general median over the entire array (concatenation of random samples)\n",
    " - Estimate general median as median of medians\n",
    " - Compare results\n",
    " ____\n",
    " \n",
    "## 1. Log normal distribution -- good candidate\n",
    "  - it looks like $\\exp^{ \\mu + \\sigma^{2} * Z}$, where Z - standard normal distribution N(0,1)\n",
    "  - it's highly skewed\n",
    "  - median is just $\\exp^{\\mu}$\n",
    "  - average is just $\\exp^{\\frac{\\sigma^{2}}{2}}$\n",
    "  - so we can arbitrary choose parameters $\\mu$ and $\\sigma$ and test the ideas"
   ]
  },
  {
   "cell_type": "code",
   "execution_count": 1,
   "metadata": {},
   "outputs": [],
   "source": [
    "import numpy as np"
   ]
  },
  {
   "cell_type": "code",
   "execution_count": 2,
   "metadata": {},
   "outputs": [],
   "source": [
    "def genLogNormal(mu, sigma, size):\n",
    "    return np.random.lognormal(mu, sigma, size)"
   ]
  },
  {
   "cell_type": "code",
   "execution_count": 3,
   "metadata": {},
   "outputs": [],
   "source": [
    "mu = 5\n",
    "sigma = np.sqrt(10)\n",
    "np.random.seed(42) # fixate random seed to make experiment reproducible\n",
    "\n",
    "q = 0.5\n",
    "# Theoretical median = exp(5) = 148 (approx.)\n",
    "# Theoretical mean = exp(5+10/2) = 22026 (approx.)"
   ]
  },
  {
   "cell_type": "code",
   "execution_count": 4,
   "metadata": {},
   "outputs": [],
   "source": [
    "def getQuantile(arr, x=0.5):\n",
    "    return np.quantile(arr, x)"
   ]
  },
  {
   "cell_type": "code",
   "execution_count": 5,
   "metadata": {},
   "outputs": [],
   "source": [
    "def getMean(arr):\n",
    "    return np.mean(arr)"
   ]
  },
  {
   "cell_type": "markdown",
   "metadata": {},
   "source": [
    "## 2. Emulation of incoming latency values"
   ]
  },
  {
   "cell_type": "code",
   "execution_count": 6,
   "metadata": {},
   "outputs": [
    {
     "name": "stdout",
     "output_type": "stream",
     "text": [
      "(50000000,)\n"
     ]
    }
   ],
   "source": [
    "numRandomSamples = 50000\n",
    "sampleSize = 1000\n",
    "\n",
    "medians = []\n",
    "means = []\n",
    "finalArray = []\n",
    "\n",
    "for i in range(numRandomSamples):\n",
    "    arr = genLogNormal(mu, sigma, sampleSize).astype(np.uint32) # uint32 because we kind of pretenting that these values are latencies\n",
    "    medians.append(getQuantile(arr, q))\n",
    "    means.append(getMean(arr))\n",
    "    finalArray.append(arr)\n",
    "finalArray = np.concatenate(finalArray)\n",
    "print(finalArray.shape)"
   ]
  },
  {
   "cell_type": "markdown",
   "metadata": {},
   "source": [
    "## 3. Estimation of mean/median\n",
    "\n",
    "Note: mean of means is equal to general mean because all random samples has the same number of elements"
   ]
  },
  {
   "cell_type": "code",
   "execution_count": 7,
   "metadata": {},
   "outputs": [
    {
     "data": {
      "text/plain": [
       "(21879.0340359, 148.0)"
      ]
     },
     "execution_count": 7,
     "metadata": {},
     "output_type": "execute_result"
    }
   ],
   "source": [
    "generalMedian = getQuantile(finalArray, q)\n",
    "generalMean = getMean(finalArray)\n",
    "generalMean, generalMedian"
   ]
  },
  {
   "cell_type": "code",
   "execution_count": 8,
   "metadata": {},
   "outputs": [
    {
     "data": {
      "text/plain": [
       "(21879.034035899997, 148.0)"
      ]
     },
     "execution_count": 8,
     "metadata": {},
     "output_type": "execute_result"
    }
   ],
   "source": [
    "medianOfMedians = getQuantile(np.array(medians), 0.5)\n",
    "medianOfMeans = getMean(np.array(means))\n",
    "medianOfMeans, medianOfMedians"
   ]
  },
  {
   "cell_type": "markdown",
   "metadata": {},
   "source": [
    "## 4. Visualization"
   ]
  },
  {
   "cell_type": "code",
   "execution_count": 9,
   "metadata": {},
   "outputs": [],
   "source": [
    "import matplotlib.pylab as plt\n",
    "import seaborn as sns\n",
    "import warnings; warnings.filterwarnings('ignore')"
   ]
  },
  {
   "cell_type": "code",
   "execution_count": 10,
   "metadata": {},
   "outputs": [
    {
     "data": {
      "text/plain": [
       "<matplotlib.legend.Legend at 0x7fd399076050>"
      ]
     },
     "execution_count": 10,
     "metadata": {},
     "output_type": "execute_result"
    },
    {
     "data": {
      "image/png": "[encoded data removed]",
      "text/plain": [
       "<Figure size 720x360 with 1 Axes>"
      ]
     },
     "metadata": {
      "needs_background": "light"
     },
     "output_type": "display_data"
    }
   ],
   "source": [
    "fig = plt.figure(figsize=(10,5))\n",
    "sns.distplot(medians)\n",
    "plt.axvline(generalMedian, color='red', label=f'True median ({generalMedian})')\n",
    "plt.axvline(medianOfMedians, color='green', label=f'Estimated median ({medianOfMedians})')\n",
    "plt.title(\"Distribution of medians of samples\", fontsize=18)\n",
    "plt.legend()"
   ]
  },
  {
   "cell_type": "code",
   "execution_count": null,
   "metadata": {},
   "outputs": [],
   "source": []
  }
 ],
 "metadata": {
  "kernelspec": {
   "display_name": "Python 3",
   "language": "python",
   "name": "python3"
  },
  "language_info": {
   "codemirror_mode": {
    "name": "ipython",
    "version": 3
   },
   "file_extension": ".py",
   "mimetype": "text/x-python",
   "name": "python",
   "nbconvert_exporter": "python",
   "pygments_lexer": "ipython3",
   "version": "3.7.9"
  }
 },
 "nbformat": 4,
 "nbformat_minor": 4
}
